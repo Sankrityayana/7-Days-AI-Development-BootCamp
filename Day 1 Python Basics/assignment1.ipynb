{
 "cells": [
  {
   "cell_type": "markdown",
   "id": "882642cf",
   "metadata": {},
   "source": [
    "1. Exercise 1: Create a List of Numbers and Print Their Squares\n",
    "\n",
    "Create a list of 10 numbers and write a Python program to print the square of each number.\n",
    "\n",
    "In the exercise, you'll create a list of 10 numbers and write a Python program that prints the square of each number. This task helps you practice:\n",
    "- Creating lists in Python.\n",
    "- Using for loops to iterate over elements.\n",
    "- Performing basic mathematical operations such as exponential (**)."
   ]
  },
  {
   "cell_type": "code",
   "execution_count": 1,
   "id": "68eae0bb",
   "metadata": {},
   "outputs": [
    {
     "name": "stdout",
     "output_type": "stream",
     "text": [
      "Squares of the numbers:\n",
      "The square of 1 is 1\n",
      "The square of 2 is 4\n",
      "The square of 3 is 9\n",
      "The square of 4 is 16\n",
      "The square of 5 is 25\n",
      "The square of 6 is 36\n",
      "The square of 7 is 49\n",
      "The square of 8 is 64\n",
      "The square of 9 is 81\n",
      "The square of 10 is 100\n"
     ]
    }
   ],
   "source": [
    "# Creating a list of 10 numbers\n",
    "numbers = [1, 2, 3, 4, 5, 6, 7, 8, 9, 10]\n",
    "\n",
    "# Print the squares of each number\n",
    "print(\"Squares of the numbers:\")\n",
    "for n in numbers:\n",
    "    s = n ** 2\n",
    "    print(f\"The square of {n} is {s}\")"
   ]
  },
  {
   "cell_type": "markdown",
   "id": "46f8ad3f",
   "metadata": {},
   "source": [
    "2. Exercise 2: Reading and Writing Files in Python\n",
    "\n",
    "Modify the above to read a CSV file, select specific columns, and rewrite the output to a new CSV file.\n",
    "\n",
    "In the exercise, you'll practice file handling by reading from a text file tha contains numbers (one per line), squaring each number, and writing the results to a new file. This task helps you get comfortable with:\n",
    "- Reading from a file using Python's open() function.\n",
    "- Iterating over file contents, performing operations on the data.\n",
    "- Writing the processed data to a new file."
   ]
  },
  {
   "cell_type": "code",
   "execution_count": 9,
   "id": "e6ce6d1b",
   "metadata": {},
   "outputs": [
    {
     "name": "stdout",
     "output_type": "stream",
     "text": [
      "Processed 10 numbers. Output written to 'output.csv'.\n"
     ]
    }
   ],
   "source": [
    "import csv\n",
    "\n",
    "input_file = 'input.csv'\n",
    "output_file = 'output.csv'\n",
    "\n",
    "numbers = []\n",
    "\n",
    "# Read numbers from the input CSV\n",
    "with open(input_file, 'r') as file:\n",
    "    reader = csv.reader(file)\n",
    "    for row in reader:\n",
    "        if row:\n",
    "            number = int(row[0])\n",
    "            numbers.append(number)\n",
    "\n",
    "# Calculate squares\n",
    "squares = [(number, number ** 2) for number in numbers]\n",
    "\n",
    "# Write results to the output CSV\n",
    "with open(output_file, 'w', newline='') as file:\n",
    "    writer = csv.writer(file)\n",
    "    writer.writerow(['Number', 'Square'])\n",
    "    writer.writerows(squares)\n",
    "\n",
    "print(f\"Processed {len(numbers)} numbers. Output written to '{output_file}'.\")"
   ]
  },
  {
   "cell_type": "markdown",
   "id": "d4ddff79",
   "metadata": {},
   "source": [
    "3. Exercise 3: Working with Lists and Dictionaries\n",
    "Modify the above code to read a CSV file, select specific columns, and write the output to a new CSV file.\n",
    "\n",
    "This exercise focuses on practicing basic Python data structures. You will:\n",
    "- Create s list of 5 students' names and their ages.\n",
    "- Use a dictionary to store and access the students' ages.\n",
    "- Write a program to iterate through the dictionary and print each student's name along with their age. This helps you become familiar with how Python handles data collections."
   ]
  },
  {
   "cell_type": "code",
   "execution_count": 10,
   "id": "55f43fdf",
   "metadata": {},
   "outputs": [
    {
     "name": "stdout",
     "output_type": "stream",
     "text": [
      "Student Ages:\n",
      "A is 20 years old.\n",
      "B is 22 years old.\n",
      "C is 21 years old.\n",
      "D is 23 years old.\n",
      "E is 19 years old.\n",
      "\n",
      "Student ages writen to 'students_ages.csv'.\n"
     ]
    }
   ],
   "source": [
    "import csv\n",
    "\n",
    "students = [\"A\", \"B\", \"C\", \"D\", \"E\"]\n",
    "\n",
    "students_ages = {\n",
    "    \"A\": 20,\n",
    "    \"B\": 22,\n",
    "    \"C\": 21,\n",
    "    \"D\": 23,\n",
    "    \"E\": 19\n",
    "}\n",
    "\n",
    "print(\"Student Ages:\")\n",
    "for name, age in students_ages.items():\n",
    "    print(f\"{name} is {age} years old.\")\n",
    "\n",
    "output_file = 'students_ages.csv'\n",
    "\n",
    "with open(output_file, 'w', newline='') as file:\n",
    "    writer = csv.writer(file)\n",
    "    writer.writerow(['Name', 'Age'])\n",
    "    for name in students:\n",
    "        writer.writerow([name, students_ages[name]])\n",
    "\n",
    "print(f\"\\nStudent ages writen to '{output_file}'.\")"
   ]
  }
 ],
 "metadata": {
  "kernelspec": {
   "display_name": "Python 3",
   "language": "python",
   "name": "python3"
  },
  "language_info": {
   "codemirror_mode": {
    "name": "ipython",
    "version": 3
   },
   "file_extension": ".py",
   "mimetype": "text/x-python",
   "name": "python",
   "nbconvert_exporter": "python",
   "pygments_lexer": "ipython3",
   "version": "3.13.1"
  }
 },
 "nbformat": 4,
 "nbformat_minor": 5
}
